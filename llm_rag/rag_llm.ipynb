{
 "cells": [
  {
   "cell_type": "code",
   "execution_count": 1,
   "id": "0884b72d",
   "metadata": {},
   "outputs": [
    {
     "name": "stderr",
     "output_type": "stream",
     "text": [
      "\n",
      "[notice] A new release of pip available: 22.2.2 -> 24.0\n",
      "[notice] To update, run: python.exe -m pip install --upgrade pip\n"
     ]
    }
   ],
   "source": [
    "! pip install  langchain openai pymysql --upgrade -q"
   ]
  },
  {
   "cell_type": "code",
   "execution_count": 5,
   "id": "2d6d5f94",
   "metadata": {
    "collapsed": true
   },
   "outputs": [
    {
     "name": "stdout",
     "output_type": "stream",
     "text": [
      "Collecting langchain_experimental\n",
      "  Downloading langchain_experimental-0.0.55-py3-none-any.whl (177 kB)\n",
      "     ------------------------------------ 177.6/177.6 kB 824.6 kB/s eta 0:00:00\n",
      "Requirement already satisfied: langchain<0.2.0,>=0.1.13 in c:\\users\\asus\\appdata\\local\\programs\\python\\python310\\lib\\site-packages (from langchain_experimental) (0.1.13)\n",
      "Requirement already satisfied: langchain-core<0.2.0,>=0.1.33 in c:\\users\\asus\\appdata\\local\\programs\\python\\python310\\lib\\site-packages (from langchain_experimental) (0.1.36)\n",
      "Requirement already satisfied: langchain-community<0.1,>=0.0.29 in c:\\users\\asus\\appdata\\local\\programs\\python\\python310\\lib\\site-packages (from langchain<0.2.0,>=0.1.13->langchain_experimental) (0.0.29)\n",
      "Requirement already satisfied: dataclasses-json<0.7,>=0.5.7 in c:\\users\\asus\\appdata\\local\\programs\\python\\python310\\lib\\site-packages (from langchain<0.2.0,>=0.1.13->langchain_experimental) (0.6.4)\n",
      "Requirement already satisfied: PyYAML>=5.3 in c:\\users\\asus\\appdata\\local\\programs\\python\\python310\\lib\\site-packages (from langchain<0.2.0,>=0.1.13->langchain_experimental) (6.0.1)\n",
      "Requirement already satisfied: aiohttp<4.0.0,>=3.8.3 in c:\\users\\asus\\appdata\\local\\programs\\python\\python310\\lib\\site-packages (from langchain<0.2.0,>=0.1.13->langchain_experimental) (3.9.3)\n",
      "Requirement already satisfied: pydantic<3,>=1 in c:\\users\\asus\\appdata\\local\\programs\\python\\python310\\lib\\site-packages (from langchain<0.2.0,>=0.1.13->langchain_experimental) (2.6.4)\n",
      "Requirement already satisfied: numpy<2,>=1 in c:\\users\\asus\\appdata\\local\\programs\\python\\python310\\lib\\site-packages (from langchain<0.2.0,>=0.1.13->langchain_experimental) (1.23.2)\n",
      "Requirement already satisfied: tenacity<9.0.0,>=8.1.0 in c:\\users\\asus\\appdata\\local\\programs\\python\\python310\\lib\\site-packages (from langchain<0.2.0,>=0.1.13->langchain_experimental) (8.2.3)\n",
      "Requirement already satisfied: SQLAlchemy<3,>=1.4 in c:\\users\\asus\\appdata\\local\\programs\\python\\python310\\lib\\site-packages (from langchain<0.2.0,>=0.1.13->langchain_experimental) (2.0.29)\n",
      "Requirement already satisfied: async-timeout<5.0.0,>=4.0.0 in c:\\users\\asus\\appdata\\local\\programs\\python\\python310\\lib\\site-packages (from langchain<0.2.0,>=0.1.13->langchain_experimental) (4.0.3)\n",
      "Requirement already satisfied: langchain-text-splitters<0.1,>=0.0.1 in c:\\users\\asus\\appdata\\local\\programs\\python\\python310\\lib\\site-packages (from langchain<0.2.0,>=0.1.13->langchain_experimental) (0.0.1)\n",
      "Requirement already satisfied: requests<3,>=2 in c:\\users\\asus\\appdata\\local\\programs\\python\\python310\\lib\\site-packages (from langchain<0.2.0,>=0.1.13->langchain_experimental) (2.28.1)\n",
      "Requirement already satisfied: jsonpatch<2.0,>=1.33 in c:\\users\\asus\\appdata\\local\\programs\\python\\python310\\lib\\site-packages (from langchain<0.2.0,>=0.1.13->langchain_experimental) (1.33)\n",
      "Requirement already satisfied: langsmith<0.2.0,>=0.1.17 in c:\\users\\asus\\appdata\\local\\programs\\python\\python310\\lib\\site-packages (from langchain<0.2.0,>=0.1.13->langchain_experimental) (0.1.38)\n",
      "Requirement already satisfied: packaging<24.0,>=23.2 in c:\\users\\asus\\appdata\\local\\programs\\python\\python310\\lib\\site-packages (from langchain-core<0.2.0,>=0.1.33->langchain_experimental) (23.2)\n",
      "Requirement already satisfied: attrs>=17.3.0 in c:\\users\\asus\\appdata\\local\\programs\\python\\python310\\lib\\site-packages (from aiohttp<4.0.0,>=3.8.3->langchain<0.2.0,>=0.1.13->langchain_experimental) (22.1.0)\n",
      "Requirement already satisfied: yarl<2.0,>=1.0 in c:\\users\\asus\\appdata\\local\\programs\\python\\python310\\lib\\site-packages (from aiohttp<4.0.0,>=3.8.3->langchain<0.2.0,>=0.1.13->langchain_experimental) (1.9.4)\n",
      "Requirement already satisfied: frozenlist>=1.1.1 in c:\\users\\asus\\appdata\\local\\programs\\python\\python310\\lib\\site-packages (from aiohttp<4.0.0,>=3.8.3->langchain<0.2.0,>=0.1.13->langchain_experimental) (1.4.1)\n",
      "Requirement already satisfied: multidict<7.0,>=4.5 in c:\\users\\asus\\appdata\\local\\programs\\python\\python310\\lib\\site-packages (from aiohttp<4.0.0,>=3.8.3->langchain<0.2.0,>=0.1.13->langchain_experimental) (6.0.5)\n",
      "Requirement already satisfied: aiosignal>=1.1.2 in c:\\users\\asus\\appdata\\local\\programs\\python\\python310\\lib\\site-packages (from aiohttp<4.0.0,>=3.8.3->langchain<0.2.0,>=0.1.13->langchain_experimental) (1.3.1)\n",
      "Requirement already satisfied: typing-inspect<1,>=0.4.0 in c:\\users\\asus\\appdata\\local\\programs\\python\\python310\\lib\\site-packages (from dataclasses-json<0.7,>=0.5.7->langchain<0.2.0,>=0.1.13->langchain_experimental) (0.9.0)\n",
      "Requirement already satisfied: marshmallow<4.0.0,>=3.18.0 in c:\\users\\asus\\appdata\\local\\programs\\python\\python310\\lib\\site-packages (from dataclasses-json<0.7,>=0.5.7->langchain<0.2.0,>=0.1.13->langchain_experimental) (3.21.1)\n",
      "Requirement already satisfied: jsonpointer>=1.9 in c:\\users\\asus\\appdata\\local\\programs\\python\\python310\\lib\\site-packages (from jsonpatch<2.0,>=1.33->langchain<0.2.0,>=0.1.13->langchain_experimental) (2.4)\n",
      "Requirement already satisfied: orjson<4.0.0,>=3.9.14 in c:\\users\\asus\\appdata\\local\\programs\\python\\python310\\lib\\site-packages (from langsmith<0.2.0,>=0.1.17->langchain<0.2.0,>=0.1.13->langchain_experimental) (3.10.0)\n",
      "Requirement already satisfied: typing-extensions>=4.6.1 in c:\\users\\asus\\appdata\\local\\programs\\python\\python310\\lib\\site-packages (from pydantic<3,>=1->langchain<0.2.0,>=0.1.13->langchain_experimental) (4.10.0)\n",
      "Requirement already satisfied: annotated-types>=0.4.0 in c:\\users\\asus\\appdata\\local\\programs\\python\\python310\\lib\\site-packages (from pydantic<3,>=1->langchain<0.2.0,>=0.1.13->langchain_experimental) (0.6.0)\n",
      "Requirement already satisfied: pydantic-core==2.16.3 in c:\\users\\asus\\appdata\\local\\programs\\python\\python310\\lib\\site-packages (from pydantic<3,>=1->langchain<0.2.0,>=0.1.13->langchain_experimental) (2.16.3)\n",
      "Requirement already satisfied: charset-normalizer<3,>=2 in c:\\users\\asus\\appdata\\local\\programs\\python\\python310\\lib\\site-packages (from requests<3,>=2->langchain<0.2.0,>=0.1.13->langchain_experimental) (2.1.1)\n",
      "Requirement already satisfied: certifi>=2017.4.17 in c:\\users\\asus\\appdata\\local\\programs\\python\\python310\\lib\\site-packages (from requests<3,>=2->langchain<0.2.0,>=0.1.13->langchain_experimental) (2022.9.24)\n",
      "Requirement already satisfied: idna<4,>=2.5 in c:\\users\\asus\\appdata\\local\\programs\\python\\python310\\lib\\site-packages (from requests<3,>=2->langchain<0.2.0,>=0.1.13->langchain_experimental) (3.4)\n",
      "Requirement already satisfied: urllib3<1.27,>=1.21.1 in c:\\users\\asus\\appdata\\local\\programs\\python\\python310\\lib\\site-packages (from requests<3,>=2->langchain<0.2.0,>=0.1.13->langchain_experimental) (1.26.12)\n",
      "Requirement already satisfied: greenlet!=0.4.17 in c:\\users\\asus\\appdata\\local\\programs\\python\\python310\\lib\\site-packages (from SQLAlchemy<3,>=1.4->langchain<0.2.0,>=0.1.13->langchain_experimental) (3.0.3)\n",
      "Requirement already satisfied: mypy-extensions>=0.3.0 in c:\\users\\asus\\appdata\\local\\programs\\python\\python310\\lib\\site-packages (from typing-inspect<1,>=0.4.0->dataclasses-json<0.7,>=0.5.7->langchain<0.2.0,>=0.1.13->langchain_experimental) (1.0.0)\n",
      "Installing collected packages: langchain_experimental\n",
      "Successfully installed langchain_experimental-0.0.55\n"
     ]
    },
    {
     "name": "stderr",
     "output_type": "stream",
     "text": [
      "\n",
      "[notice] A new release of pip available: 22.2.2 -> 24.0\n",
      "[notice] To update, run: python.exe -m pip install --upgrade pip\n"
     ]
    }
   ],
   "source": [
    "! pip install langchain_experimental"
   ]
  },
  {
   "cell_type": "code",
   "execution_count": 1,
   "id": "89286534",
   "metadata": {},
   "outputs": [],
   "source": [
    "import os\n",
    "from langchain.utilities import SQLDatabase\n",
    "from langchain.llms import OpenAI\n",
    "from langchain_experimental.sql import SQLDatabaseChain\n",
    "from langchain.prompts import PromptTemplate\n",
    "from langchain.prompts.chat import HumanMessagePromptTemplate\n",
    "from langchain.chat_models import ChatOpenAI\n",
    "from langchain.schema import HumanMessage, SystemMessage\n",
    "from langchain.agents import initialize_agent\n",
    "from langchain.agents.agent_toolkits import ZapierToolkit\n",
    "from langchain.utilities.zapier import ZapierNLAWrapper"
   ]
  },
  {
   "cell_type": "code",
   "execution_count": 2,
   "id": "0db22dbe",
   "metadata": {},
   "outputs": [
    {
     "name": "stderr",
     "output_type": "stream",
     "text": [
      "C:\\Users\\asus\\AppData\\Local\\Programs\\Python\\Python310\\lib\\site-packages\\langchain_core\\_api\\deprecation.py:117: LangChainDeprecationWarning: The class `langchain_community.chat_models.openai.ChatOpenAI` was deprecated in langchain-community 0.0.10 and will be removed in 0.2.0. An updated version of the class exists in the langchain-openai package and should be used instead. To use it run `pip install -U langchain-openai` and import as `from langchain_openai import ChatOpenAI`.\n",
      "  warn_deprecated(\n"
     ]
    }
   ],
   "source": [
    "os.environ['OPENAI_API_KEY'] = \"enter key\"\n",
    "llm = ChatOpenAI(\n",
    "    openai_api_key=os.environ[\"OPENAI_API_KEY\"],\n",
    "    model='gpt-3.5-turbo'# Here you can use gpt 4 model\n",
    ")"
   ]
  },
  {
   "cell_type": "code",
   "execution_count": 3,
   "id": "9d02ee66",
   "metadata": {},
   "outputs": [],
   "source": [
    "host = 'localhost'\n",
    "port = '3306'\n",
    "username = 'root'\n",
    "password = \"put your password\"\n",
    "database_schema = 'school'\n",
    "mysql_uri = f\"mysql+pymysql://{username}:{password}@{host}:{port}/{database_schema}\"\n",
    "\n",
    "db = SQLDatabase.from_uri(mysql_uri, include_tables=['student'], sample_rows_in_table_info=2)\n",
    "\n",
    "db_chain = SQLDatabaseChain.from_llm(llm, db, verbose=True)"
   ]
  },
  {
   "cell_type": "code",
   "execution_count": 4,
   "id": "a8cf8c14",
   "metadata": {},
   "outputs": [],
   "source": [
    "def data_from_db(query):\n",
    "    db_context = db_chain(query)\n",
    "    db_context = db_context['result'].strip()\n",
    "    return db_context"
   ]
  },
  {
   "cell_type": "markdown",
   "id": "9860660d",
   "metadata": {},
   "source": [
    "### Open AI Rag model"
   ]
  },
  {
   "cell_type": "code",
   "execution_count": 5,
   "id": "2f8b653e",
   "metadata": {},
   "outputs": [],
   "source": [
    "def llm_generate(query):\n",
    "    db_context = data_from_db(query)\n",
    "    system_message = \"\"\"You are a Working professional working in a school.\n",
    "            You have to answer user's queries and provide relevant information to help students aname and their school search. \n",
    "            Example:\n",
    "\n",
    "            Input:\n",
    "            Name of all those students who studied in AITR?\n",
    "\n",
    "            Context:\n",
    "            The name of students who studied in AITR:\n",
    "            1. Praveen\n",
    "\n",
    "            Output:\n",
    "            The name of students who studied in AITR IS PRAVEEN\n",
    "            \n",
    "            And if the no record found in sql table than give the output:\n",
    "            Data Not Available\n",
    "            \"\"\"\n",
    "    \n",
    "    human_query = HumanMessagePromptTemplate.from_template(\n",
    "      \"\"\"Input:\n",
    "      {human_input}\n",
    "      \n",
    "      Context:\n",
    "      {db_context}\n",
    "      \n",
    "      Output:\n",
    "      \"\"\"\n",
    "    )\n",
    "    messages = [\n",
    "      SystemMessage(content=system_message),\n",
    "      human_query.format(human_input=query, db_context=db_context)\n",
    "    ]\n",
    "    response = llm(messages).content\n",
    "    return response"
   ]
  },
  {
   "cell_type": "code",
   "execution_count": 6,
   "id": "a477ba8f",
   "metadata": {},
   "outputs": [
    {
     "name": "stderr",
     "output_type": "stream",
     "text": [
      "C:\\Users\\asus\\AppData\\Local\\Programs\\Python\\Python310\\lib\\site-packages\\langchain_core\\_api\\deprecation.py:117: LangChainDeprecationWarning: The function `__call__` was deprecated in LangChain 0.1.0 and will be removed in 0.2.0. Use invoke instead.\n",
      "  warn_deprecated(\n"
     ]
    },
    {
     "name": "stdout",
     "output_type": "stream",
     "text": [
      "\n",
      "\n",
      "\u001b[1m> Entering new SQLDatabaseChain chain...\u001b[0m\n",
      "name of students who are in kkr\n",
      "SQLQuery:\u001b[32;1m\u001b[1;3mSELECT `NAME` \n",
      "FROM student\n",
      "WHERE `SCHOOL_NAME` = 'KKR'\n",
      "LIMIT 5;\u001b[0m\n",
      "SQLResult: \u001b[33;1m\u001b[1;3m\u001b[0m\n",
      "Answer:\u001b[32;1m\u001b[1;3mFinal answer here: No students are in KKR.\u001b[0m\n",
      "\u001b[1m> Finished chain.\u001b[0m\n"
     ]
    },
    {
     "name": "stderr",
     "output_type": "stream",
     "text": [
      "C:\\Users\\asus\\AppData\\Local\\Programs\\Python\\Python310\\lib\\site-packages\\langchain_core\\_api\\deprecation.py:117: LangChainDeprecationWarning: The function `__call__` was deprecated in LangChain 0.1.7 and will be removed in 0.2.0. Use invoke instead.\n",
      "  warn_deprecated(\n"
     ]
    }
   ],
   "source": [
    "result = llm_generate(\"name of students who are in kkr\")"
   ]
  },
  {
   "cell_type": "markdown",
   "id": "f510ed18",
   "metadata": {},
   "source": [
    "### Send the email to the client"
   ]
  },
  {
   "cell_type": "code",
   "execution_count": 7,
   "id": "7d7bc4a7",
   "metadata": {},
   "outputs": [
    {
     "data": {
      "text/plain": [
       "'Data Not Available'"
      ]
     },
     "execution_count": 7,
     "metadata": {},
     "output_type": "execute_result"
    }
   ],
   "source": [
    "if result == \"Data Not Available\":   \n",
    "    os.environ[\"ZAPIER_NLA_API_KEY\"] = 'enter key'\n",
    "    zapier = ZapierNLAWrapper()\n",
    "    toolkit = ZapierToolkit.from_zapier_nla_wrapper(zapier)\n",
    "    agent = initialize_agent(toolkit.get_tools(), llm, agent=\"zero-shot-react-description\", verbose=True)\n",
    "    agent.run(\"send the email to this address abcd.gmail.com here is the google forms link https://docs.google.com/forms/.... please refer the form and fill the missing informtaion so that i can merge that information in the datsbase \")\n",
    "else:\n",
    "    result"
   ]
  }
 ],
 "metadata": {
  "kernelspec": {
   "display_name": "Python 3 (ipykernel)",
   "language": "python",
   "name": "python3"
  },
  "language_info": {
   "codemirror_mode": {
    "name": "ipython",
    "version": 3
   },
   "file_extension": ".py",
   "mimetype": "text/x-python",
   "name": "python",
   "nbconvert_exporter": "python",
   "pygments_lexer": "ipython3",
   "version": "3.10.6"
  }
 },
 "nbformat": 4,
 "nbformat_minor": 5
}
