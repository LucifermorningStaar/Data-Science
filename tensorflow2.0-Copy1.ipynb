{
 "cells": [
  {
   "cell_type": "code",
   "execution_count": 1,
   "id": "ff8eb8b2",
   "metadata": {},
   "outputs": [],
   "source": [
    "import math\n",
    "import numpy as np\n",
    "import h5py\n",
    "import matplotlib.pyplot as plt\n",
    "import tensorflow as tf\n",
    "from tensorflow.python.framework import ops\n",
    "from tf_utils import load_dataset, random_mini_batches, convert_to_one_hot, predict\n",
    "\n",
    "%matplotlib inline\n",
    "np.random.seed(1)"
   ]
  },
  {
   "cell_type": "code",
   "execution_count": 2,
   "id": "c084cf47",
   "metadata": {},
   "outputs": [
    {
     "data": {
      "text/plain": [
       "True"
      ]
     },
     "execution_count": 2,
     "metadata": {},
     "output_type": "execute_result"
    }
   ],
   "source": [
    "tf.executing_eagerly()"
   ]
  },
  {
   "cell_type": "code",
   "execution_count": 3,
   "id": "14e31fc9",
   "metadata": {},
   "outputs": [],
   "source": [
    "\"\"\"Tensorflow 2.0 run eager execution \n",
    "\"\"\"\n",
    "# tf.compat.v1.disable_eager_execution()\n",
    "# Y_hat = tf.constant(23, name = \"Y_hat\", shape = (1, ))\n",
    "# Y = tf.constant(32, name = \"Y\", shape = (1, ))\n",
    "# loss = tf.Variable((Y - Y_hat) ** 2, name = \"loss\")\n",
    "# init = tf.compat.v1.global_variables_initializer()\n",
    "# with tf.compat.v1.Session() as sess:\n",
    "#     sess.run(init)\n",
    "#     print(sess.run(loss))\n",
    "    \n",
    "tf.compat.v1.reset_default_graph()\n",
    "\n",
    "tf.keras.backend.clear_session()\n",
    "    "
   ]
  },
  {
   "cell_type": "code",
   "execution_count": 4,
   "id": "5e1d933a",
   "metadata": {},
   "outputs": [
    {
     "data": {
      "text/plain": [
       "<tf.Tensor: shape=(), dtype=int32, numpy=23>"
      ]
     },
     "execution_count": 4,
     "metadata": {},
     "output_type": "execute_result"
    }
   ],
   "source": [
    "Y_hat = tf.constant(23, name = \"Y_hat\")\n",
    "tf.keras.backend.clear_session()\n",
    "Y_hat"
   ]
  },
  {
   "cell_type": "markdown",
   "id": "46875662",
   "metadata": {},
   "source": [
    "The key differences between `tf.Variable` and `tf.constant` in TensorFlow lie in their mutability and purpose:\n",
    "\n",
    "**1. Mutability:**\n",
    "\n",
    "- **tf.Variable:** **Mutable:** Its value can be changed after creation using methods like `assign` or through automatic updates during training. This makes them ideal for storing trainable parameters in neural networks.\n",
    "- **tf.constant:** **Immutable:** Once created, its value cannot be changed. It's suitable for storing fixed values that won't change during the execution of your program.\n",
    "\n",
    "**2. Purpose:**\n",
    "\n",
    "- **tf.Variable:** Primarily used for **trainable parameters** in machine learning models like weights and biases in neural networks. These parameters are updated during the training process to learn patterns from the data.\n",
    "- **tf.constant:** Used for **fixed values** that don't need to be modified during program execution. Examples include input data, hyperparameters, or constants like pi or the speed of light.\n",
    "\n",
    "**3. Behavior in the Graph:**\n",
    "\n",
    "- **tf.Variable:** Creates a **placeholder node** in the TensorFlow graph. This node holds a reference to the actual variable's value, which is stored separately. During training, updates to the variable are reflected in the graph through operations like `assign`.\n",
    "- **tf.constant:** Creates a **constant node** in the graph that holds the actual value itself. This node's value is fixed and cannot be changed during the execution of the graph.\n",
    "\n",
    "**4. Optimization:**\n",
    "\n",
    "- **tf.Variable:** Plays a crucial role in **backpropagation** during training. Gradients are calculated with respect to `tf.Variable`s to update the weights and biases in neural networks.\n",
    "- **tf.constant:** Does not participate in backpropagation since its value is fixed.\n",
    "\n",
    "**Summary Table:**\n",
    "\n",
    "| Feature        | tf.Variable                         | tf.constant                       |\n",
    "|----------------|------------------------------------|-------------------------------------|\n",
    "| Mutability      | **Mutable** (can be changed)             | **Immutable** (cannot be changed)     |\n",
    "| Purpose         | Trainable parameters in models        | Fixed values in computations       |\n",
    "| Graph behavior   | Placeholder node (reference)         | Constant node (holds actual value) |\n",
    "| Optimization    | Used in backpropagation               | Not involved in backpropagation     |\n",
    "\n",
    "\n",
    "In your project, use `tf.Variable` judiciously for parameters requiring training and avoid unnecessary usage to optimize memory allocation and execution speed. Use `tf.constant` for values that remain fixed throughout your program's execution."
   ]
  },
  {
   "cell_type": "code",
   "execution_count": 5,
   "id": "6fd76986",
   "metadata": {},
   "outputs": [
    {
     "name": "stdout",
     "output_type": "stream",
     "text": [
      "<tf.Variable 'loss:0' shape=() dtype=int32, numpy=81>\n"
     ]
    }
   ],
   "source": [
    "\"\"\"You can do directly\"\"\"\n",
    "Y_hat = tf.constant(23, name = \"Y_hat\")\n",
    "Y = tf.constant(32, name = \"Y\")\n",
    "loss = tf.Variable((Y - Y_hat) ** 2, name = \"loss\")\n",
    "print(loss)\n"
   ]
  },
  {
   "cell_type": "code",
   "execution_count": 6,
   "id": "debfc87a",
   "metadata": {},
   "outputs": [
    {
     "name": "stdout",
     "output_type": "stream",
     "text": [
      "tf.Tensor(23, shape=(), dtype=int32)\n"
     ]
    }
   ],
   "source": [
    "print(Y_hat)"
   ]
  },
  {
   "cell_type": "markdown",
   "id": "d8173b3a",
   "metadata": {},
   "source": [
    "Writing and running programs in TensorFlow has the following steps:\n",
    "\n",
    "1. Create Tensors (variables) that are not yet executed/evaluated.\n",
    "2. Write operations between those Tensors.\n",
    "3. Initialize your Tensors.\n",
    "4. Create a Session.\n",
    "5. Run the Session. This will run the operations you'd written above.\n",
    "\n",
    "But tensorflow 2.0 supports egaer execution"
   ]
  },
  {
   "cell_type": "code",
   "execution_count": 7,
   "id": "dc032513",
   "metadata": {},
   "outputs": [
    {
     "name": "stdout",
     "output_type": "stream",
     "text": [
      "tf.Tensor(20, shape=(), dtype=int32)\n"
     ]
    }
   ],
   "source": [
    "a = tf.constant(2)\n",
    "b = tf.constant(10)\n",
    "c = tf.multiply(a, b)\n",
    "print(c)\n",
    "tf.keras.backend.clear_session()\n"
   ]
  },
  {
   "cell_type": "code",
   "execution_count": 8,
   "id": "d20e21b8",
   "metadata": {},
   "outputs": [],
   "source": [
    "# Change the value of x in the feed_dict\n",
    "\n",
    "# tf.compat.v1.disable_eager_execution()\n",
    "# x = tf.compat.v1.placeholder(tf.int64, name = 'x')\n",
    "\n",
    "# with tf.compat.v1.Session() as sess:\n",
    "#     print(sess.run(x * 2, feed_dict = {x : 2}))\n",
    "#     sess.close()\n",
    "    "
   ]
  },
  {
   "cell_type": "code",
   "execution_count": 9,
   "id": "74a5166d",
   "metadata": {},
   "outputs": [
    {
     "name": "stdout",
     "output_type": "stream",
     "text": [
      "tf.Tensor(\n",
      "[[ 1.62434536 -0.61175641 -0.52817175]\n",
      " [-1.07296862  0.86540763 -2.3015387 ]\n",
      " [ 1.74481176 -0.7612069   0.3190391 ]\n",
      " [-0.24937038  1.46210794 -2.06014071]], shape=(4, 3), dtype=float64)\n"
     ]
    }
   ],
   "source": [
    "x = tf.constant(np.random.randn(4, 3), name = \"X\")\n",
    "print(x)\n",
    "tf.keras.backend.clear_session()"
   ]
  },
  {
   "cell_type": "markdown",
   "id": "c7b970b6",
   "metadata": {},
   "source": [
    "Lets start this programming exercise by computing the following equation:  𝑌=𝑊𝑋+𝑏 , where  𝑊  and  𝑋  are random matrices and b is a random vector.\n",
    "\n",
    "Exercise: Compute  𝑊𝑋+𝑏  where  𝑊,𝑋 , and  𝑏  are drawn from a random normal distribution. W is of shape (4, 3), X is (3,1) and b is (4,1). As an example, here is how you would define a constant X that has shape (3,1):"
   ]
  },
  {
   "cell_type": "code",
   "execution_count": 10,
   "id": "28cd0e66",
   "metadata": {},
   "outputs": [],
   "source": [
    "tf.keras.backend.clear_session()"
   ]
  },
  {
   "cell_type": "code",
   "execution_count": 11,
   "id": "a1acbbc5",
   "metadata": {},
   "outputs": [],
   "source": [
    "# GRADED FUNCTION: linear_function\n",
    "\n",
    "def linear_function():\n",
    "    \"\"\"\n",
    "    Implements a linear function:\n",
    "            Initializes W to be a random tensor of shape (4,3)\n",
    "            Initializes X to be a random tensor of shape (3,1)\n",
    "            Initializes b to be a random tensor of shape (4,1)\n",
    "    Returns: \n",
    "    result -- runs the session for Y = WX + b \n",
    "    \"\"\"\n",
    "    \n",
    "    W = tf.constant(np.random.randn(4, 3))\n",
    "    X = tf.constant(np.random.randn(3, 1))\n",
    "    b = tf.constant(np.random.randn(4, 1))\n",
    "    Y = tf.add(tf.matmul(W, X), b)\n",
    "    \n",
    "    return Y\n"
   ]
  },
  {
   "cell_type": "code",
   "execution_count": 12,
   "id": "eddb0710",
   "metadata": {},
   "outputs": [
    {
     "name": "stdout",
     "output_type": "stream",
     "text": [
      "result = tf.Tensor(\n",
      "[[-1.10296141]\n",
      " [-1.03295748]\n",
      " [ 0.30515231]\n",
      " [-0.33862392]], shape=(4, 1), dtype=float64)\n"
     ]
    }
   ],
   "source": [
    "print( \"result = \" + str(linear_function()))"
   ]
  },
  {
   "cell_type": "code",
   "execution_count": 13,
   "id": "88dcbb02",
   "metadata": {},
   "outputs": [],
   "source": [
    "# GRADED FUNCTION: sigmoid\n",
    "\n",
    "def Sigmoid(z):\n",
    "    \"\"\"\n",
    "    Computes the sigmoid of z\n",
    "\n",
    "    Arguments:\n",
    "    z -- input value, scalar or vector\n",
    "\n",
    "    Returns:\n",
    "    results -- the sigmoid of z\n",
    "    \"\"\"\n",
    "\n",
    "    return tf.math.sigmoid(tf.constant(z, dtype = tf.float64, name = \"z\")).numpy()"
   ]
  },
  {
   "cell_type": "code",
   "execution_count": 14,
   "id": "a6f0a1d4",
   "metadata": {},
   "outputs": [
    {
     "name": "stdout",
     "output_type": "stream",
     "text": [
      "sigmoid(0) =  0.5\n",
      "sigmoid(12) = 0.9999938558253978\n"
     ]
    }
   ],
   "source": [
    "print (\"sigmoid(0) = \", Sigmoid(0))\n",
    "print (\"sigmoid(12) = \" + str(Sigmoid(12)))"
   ]
  },
  {
   "cell_type": "code",
   "execution_count": 15,
   "id": "1f9d32f3",
   "metadata": {},
   "outputs": [],
   "source": [
    "# GRADED FUNCTION: cost\n",
    "\n",
    "def cost(logits, labels):\n",
    "    \"\"\"\n",
    "    Computes the cost using the sigmoid cross entropy\n",
    "    \n",
    "    Arguments:\n",
    "    logits -- vector containing z, output of the last linear unit (before the final sigmoid activation)\n",
    "    labels -- vector of labels y (1 or 0) \n",
    "    \n",
    "    Note: What we've been calling \"z\" and \"y\" in this class are respectively called \"logits\" and \"labels\" \n",
    "    in the TensorFlow documentation. So logits will feed into z, and labels into y. \n",
    "    \n",
    "    Returns:\n",
    "    cost -- runs the session of the cost (formula (2))\n",
    "    \"\"\"\n",
    "    \n",
    "    return tf.nn.sigmoid_cross_entropy_with_logits(logits = tf.constant(logits, name = \"logits\", dtype = tf.float64), labels = tf.constant(labels, name = \"labels\", dtype = tf.float64)).numpy()\n",
    "    "
   ]
  },
  {
   "cell_type": "code",
   "execution_count": 16,
   "id": "319d6166",
   "metadata": {},
   "outputs": [
    {
     "name": "stdout",
     "output_type": "stream",
     "text": [
      "cost = [1.00538722 1.03664083 0.41385432 0.39956614]\n"
     ]
    }
   ],
   "source": [
    "logits = Sigmoid(np.array([0.2,0.4,0.7,0.9]))\n",
    "cost = cost(logits, np.array([0,0,1,1]))\n",
    "print (\"cost = \" + str(cost))"
   ]
  },
  {
   "cell_type": "code",
   "execution_count": 17,
   "id": "31c53562",
   "metadata": {},
   "outputs": [],
   "source": [
    "# GRADED FUNCTION: one_hot_matrix\n",
    "\n",
    "def one_hot_matrix(labels, C):\n",
    "    \"\"\"\n",
    "    Creates a matrix where the i-th row corresponds to the ith class number and the jth column\n",
    "                     corresponds to the jth training example. So if example j had a label i. Then entry (i,j) \n",
    "                     will be 1. \n",
    "                      \n",
    "    Arguments:\n",
    "    labels -- vector containing the labels \n",
    "    C -- number of classes, the depth of the one hot dimension\n",
    "    \n",
    "    Returns: \n",
    "    one_hot -- one hot matrix\n",
    "    \"\"\"\n",
    "    return tf.one_hot(tf.constant(labels, dtype = tf.int32), tf.constant(C, dtype = tf.int32))"
   ]
  },
  {
   "cell_type": "code",
   "execution_count": 18,
   "id": "d5db84f5",
   "metadata": {},
   "outputs": [
    {
     "name": "stdout",
     "output_type": "stream",
     "text": [
      "one_hot = tf.Tensor(\n",
      "[[0. 1. 0. 0.]\n",
      " [0. 0. 1. 0.]\n",
      " [0. 0. 0. 1.]\n",
      " [1. 0. 0. 0.]\n",
      " [0. 0. 1. 0.]\n",
      " [0. 1. 0. 0.]], shape=(6, 4), dtype=float32)\n"
     ]
    }
   ],
   "source": [
    "labels = np.array([1,2,3,0,2,1])\n",
    "one_hot = one_hot_matrix(labels, C = 4)\n",
    "print (\"one_hot = \" + str(one_hot))"
   ]
  },
  {
   "cell_type": "code",
   "execution_count": 19,
   "id": "1b445db2",
   "metadata": {},
   "outputs": [],
   "source": [
    "# GRADED FUNCTION: ones\n",
    "\n",
    "def ones(shape):\n",
    "    \"\"\"\n",
    "    Creates an array of ones of dimension shape\n",
    "    \n",
    "    Arguments:\n",
    "    shape -- shape of the array you want to create\n",
    "        \n",
    "    Returns: \n",
    "    ones -- array containing only ones\n",
    "    \"\"\"\n",
    "    \n",
    "    return tf.ones(tf.constant(shape, dtype = tf.int32)).numpy()"
   ]
  },
  {
   "cell_type": "code",
   "execution_count": 20,
   "id": "d196c239",
   "metadata": {},
   "outputs": [
    {
     "name": "stdout",
     "output_type": "stream",
     "text": [
      "ones = [1. 1. 1.]\n"
     ]
    }
   ],
   "source": [
    "print (\"ones = \" + str(ones([3])))"
   ]
  },
  {
   "cell_type": "code",
   "execution_count": 21,
   "id": "da57bb7c",
   "metadata": {},
   "outputs": [],
   "source": [
    "# Loading the dataset\n",
    "X_train_orig, Y_train_orig, X_test_orig, Y_test_orig, classes = load_dataset()"
   ]
  },
  {
   "cell_type": "code",
   "execution_count": 22,
   "id": "7f6febd5",
   "metadata": {},
   "outputs": [
    {
     "name": "stdout",
     "output_type": "stream",
     "text": [
      "y = 5\n"
     ]
    },
    {
     "data": {
      "image/png": "[encoded data removed]",
      "text/plain": [
       "<Figure size 640x480 with 1 Axes>"
      ]
     },
     "metadata": {},
     "output_type": "display_data"
    }
   ],
   "source": [
    "# Example of a picture\n",
    "index = 0\n",
    "plt.imshow(X_train_orig[index])\n",
    "print (\"y = \" + str(np.squeeze(Y_train_orig[:, index])))"
   ]
  },
  {
   "cell_type": "code",
   "execution_count": 23,
   "id": "cd6c1e64",
   "metadata": {},
   "outputs": [
    {
     "name": "stdout",
     "output_type": "stream",
     "text": [
      "number of training examples = 1080\n",
      "number of test examples = 120\n",
      "X_train shape: (12288, 1080)\n",
      "Y_train shape: (6, 1080)\n",
      "X_test shape: (12288, 120)\n",
      "Y_test shape: (6, 120)\n"
     ]
    }
   ],
   "source": [
    "# Flatten the training and test images\n",
    "X_train_flatten = X_train_orig.reshape(X_train_orig.shape[0], -1).T\n",
    "X_test_flatten = X_test_orig.reshape(X_test_orig.shape[0], -1).T\n",
    "# Normalize image vectors\n",
    "X_train = X_train_flatten/255.\n",
    "X_test = X_test_flatten/255.\n",
    "# Convert training and test labels to one hot matrices\n",
    "Y_train = convert_to_one_hot(Y_train_orig, 6)\n",
    "Y_test = convert_to_one_hot(Y_test_orig, 6)\n",
    "\n",
    "print (\"number of training examples = \" + str(X_train.shape[1]))\n",
    "print (\"number of test examples = \" + str(X_test.shape[1]))\n",
    "print (\"X_train shape: \" + str(X_train.shape))\n",
    "print (\"Y_train shape: \" + str(Y_train.shape))\n",
    "print (\"X_test shape: \" + str(X_test.shape))\n",
    "print (\"Y_test shape: \" + str(Y_test.shape))"
   ]
  },
  {
   "cell_type": "code",
   "execution_count": 24,
   "id": "c87cb92d",
   "metadata": {},
   "outputs": [
    {
     "data": {
      "text/plain": [
       "<tf.Variable 'Variable:0' shape=(3, 3) dtype=float32, numpy=\n",
       "array([[ 0.525599  ,  0.13712859,  0.5714648 ],\n",
       "       [ 0.68643475, -0.5642214 , -0.12864947],\n",
       "       [-0.53559923,  0.6122489 ,  0.10256004]], dtype=float32)>"
      ]
     },
     "execution_count": 24,
     "metadata": {},
     "output_type": "execute_result"
    }
   ],
   "source": [
    "shape = (3,3)\n",
    "initializer = tf.initializers.GlorotUniform()\n",
    "var = tf.Variable(initializer(shape=shape))\n",
    "var"
   ]
  },
  {
   "cell_type": "code",
   "execution_count": 25,
   "id": "12e5349f",
   "metadata": {},
   "outputs": [],
   "source": [
    "# GRADED FUNCTION: initialize_parameters\n",
    "\n",
    "def initialize_parameters():\n",
    "    \"\"\"\n",
    "    Initializes parameters to build a neural network with tensorflow. The shapes are:\n",
    "                        W1 : [25, 12288]\n",
    "                        b1 : [25, 1]\n",
    "                        W2 : [12, 25]\n",
    "                        b2 : [12, 1]\n",
    "                        W3 : [6, 12]\n",
    "                        b3 : [6, 1]\n",
    "    \n",
    "    Returns:\n",
    "    parameters -- a dictionary of tensors containing W1, b1, W2, b2, W3, b3\n",
    "    \"\"\"\n",
    "    tf.random.set_seed(1)\n",
    "    initializer = tf.initializers.GlorotNormal(seed=1)\n",
    "    W1 = tf.Variable(initializer(shape = (25,12288)), trainable = True, dtype=tf.float32)\n",
    "    b1 = tf.Variable(initializer(shape = (25,1)), trainable = True, dtype=tf.float32)\n",
    "    W2 = tf.Variable(initializer(shape = (12,25)), trainable = True, dtype=tf.float32)\n",
    "    b2 = tf.Variable(initializer(shape = (12,1)), trainable = True, dtype=tf.float32)\n",
    "    W3 = tf.Variable(initializer(shape = (6,12)), trainable = True, dtype=tf.float32)\n",
    "    b3 = tf.Variable(initializer(shape = (6,1)), trainable = True, dtype=tf.float32)\n",
    "\n",
    "    parameters = {\"W1\": W1,\n",
    "                  \"b1\": b1,\n",
    "                  \"W2\": W2,\n",
    "                  \"b2\": b2,\n",
    "                  \"W3\": W3,\n",
    "                  \"b3\": b3}\n",
    "    \n",
    "    return parameters"
   ]
  },
  {
   "cell_type": "code",
   "execution_count": 26,
   "id": "d030a02c",
   "metadata": {},
   "outputs": [
    {
     "name": "stdout",
     "output_type": "stream",
     "text": [
      "W1 = <tf.Variable 'Variable:0' shape=(25, 12288) dtype=float32, numpy=\n",
      "array([[ 0.00183502, -0.00714326,  0.00914525, ..., -0.01221176,\n",
      "         0.01656458,  0.00526992],\n",
      "       [ 0.02264025,  0.0067227 ,  0.00795862, ...,  0.00284724,\n",
      "         0.01910819,  0.00122853],\n",
      "       [-0.00163333, -0.00861273, -0.01398893, ..., -0.00741132,\n",
      "         0.02071251, -0.026417  ],\n",
      "       ...,\n",
      "       [-0.00126929,  0.01729332,  0.02082342, ...,  0.01709594,\n",
      "         0.00429358, -0.00733263],\n",
      "       [ 0.00275988,  0.00419503,  0.00949959, ...,  0.01241149,\n",
      "        -0.0270652 ,  0.01501104],\n",
      "       [-0.00145541,  0.02459595,  0.00339064, ..., -0.02478788,\n",
      "         0.02716016, -0.00306428]], dtype=float32)>\n",
      "b1 = <tf.Variable 'Variable:0' shape=(25, 1) dtype=float32, numpy=\n",
      "array([[ 0.03993344],\n",
      "       [-0.15545043],\n",
      "       [ 0.19901739],\n",
      "       [-0.24872702],\n",
      "       [-0.28688198],\n",
      "       [-0.12585859],\n",
      "       [-0.01201915],\n",
      "       [ 0.14756493],\n",
      "       [-0.00472601],\n",
      "       [-0.44236282],\n",
      "       [ 0.54058254],\n",
      "       [-0.4345032 ],\n",
      "       [ 0.11800031],\n",
      "       [ 0.21523887],\n",
      "       [-0.06789926],\n",
      "       [-0.16455258],\n",
      "       [-0.05258802],\n",
      "       [-0.18575548],\n",
      "       [-0.00277632],\n",
      "       [-0.06777475],\n",
      "       [ 0.09226809],\n",
      "       [ 0.02067652],\n",
      "       [-0.05682073],\n",
      "       [ 0.37068033],\n",
      "       [ 0.21586621]], dtype=float32)>\n",
      "W2 = <tf.Variable 'Variable:0' shape=(12, 25) dtype=float32, numpy=\n",
      "array([[ 0.03347515, -0.13031   ,  0.16683103, -0.20850131, -0.2404856 ,\n",
      "        -0.10550394, -0.01007534,  0.12369979, -0.00396169, -0.3708211 ,\n",
      "         0.4531561 , -0.36423257,  0.09891655,  0.18042907, -0.05691816,\n",
      "        -0.13794008, -0.04408315, -0.15571392, -0.00232732, -0.05681378,\n",
      "         0.07734591,  0.01733258, -0.04763132,  0.31073156,  0.18095495],\n",
      "       [ 0.27575395,  0.0652916 ,  0.1945817 ,  0.00809532, -0.35056123,\n",
      "        -0.04349809,  0.00533627,  0.14254977, -0.22560681, -0.07908897,\n",
      "        -0.10430467, -0.27877635, -0.22633284, -0.15467171, -0.30278656,\n",
      "         0.42898563,  0.04269395,  0.14339304,  0.4080808 ,  0.19127996,\n",
      "        -0.08289494,  0.19833343, -0.18854785,  0.11080088, -0.10293514],\n",
      "       [ 0.07490641,  0.12879197, -0.37855393, -0.14283597, -0.1686482 ,\n",
      "        -0.12487295,  0.08058943, -0.14054622, -0.32778224,  0.11833672,\n",
      "         0.21914457,  0.1428981 ,  0.4125568 , -0.02966296, -0.11308558,\n",
      "         0.2839564 ,  0.26005846, -0.12101684,  0.14712207, -0.39992067,\n",
      "        -0.11544652, -0.11918075, -0.5031594 , -0.16591036, -0.0463655 ],\n",
      "       [-0.11970381,  0.19529893, -0.13428073, -0.46205577,  0.07818031,\n",
      "        -0.37026545, -0.06378475,  0.3693177 ,  0.07429875,  0.5162154 ,\n",
      "        -0.01673712,  0.35476214,  0.09180938,  0.17954443,  0.00366851,\n",
      "         0.04273273,  0.10226952,  0.03479045, -0.23308858, -0.23678231,\n",
      "        -0.07444265, -0.30713868, -0.11694647,  0.32906806, -0.09511968],\n",
      "       [ 0.1597296 ,  0.0393942 ,  0.4806439 ,  0.22657786,  0.03705936,\n",
      "        -0.51946974, -0.01744555, -0.3121316 , -0.21262619,  0.05213222,\n",
      "         0.04905998, -0.29094276, -0.03067003,  0.47902155,  0.3192982 ,\n",
      "         0.04899108,  0.08141489,  0.32032356, -0.02520937,  0.10048122,\n",
      "        -0.05332499, -0.34107792, -0.13928485,  0.12382392, -0.41300818],\n",
      "       [-0.15009922,  0.03965309, -0.47955167, -0.07975382,  0.09735033,\n",
      "        -0.00232943, -0.26368296, -0.24157847,  0.24642426,  0.22330649,\n",
      "        -0.30809   ,  0.1017215 ,  0.02995418,  0.26468748, -0.52045006,\n",
      "        -0.08780679,  0.02792993,  0.2803117 ,  0.20731722, -0.14461054,\n",
      "        -0.09631125,  0.2553377 ,  0.0313108 ,  0.28631765,  0.02228327],\n",
      "       [-0.20281379, -0.2922766 , -0.02937314,  0.00603206,  0.34428513,\n",
      "         0.14963914, -0.42720488,  0.07914864,  0.06170019, -0.1942032 ,\n",
      "         0.03054667, -0.20949648,  0.28976992,  0.03168807,  0.18336946,\n",
      "        -0.1762811 , -0.21549895,  0.02550345, -0.17974655,  0.20999093,\n",
      "         0.13074148,  0.12900151, -0.29620144,  0.39836082,  0.35581756],\n",
      "       [-0.0809828 ,  0.0508789 ,  0.04040742, -0.06884032, -0.07758227,\n",
      "         0.21241859,  0.16171476, -0.0574309 , -0.04828556, -0.23045349,\n",
      "         0.25515756, -0.2933403 , -0.16053016, -0.11232601, -0.13022825,\n",
      "         0.05022161,  0.18676145, -0.0776429 ,  0.1028303 , -0.06372993,\n",
      "         0.41251048, -0.01803587,  0.04746069,  0.27630135, -0.21901166],\n",
      "       [ 0.28674722,  0.20629272, -0.38042602,  0.2629734 ,  0.23505901,\n",
      "         0.18131882,  0.25507575, -0.18465258,  0.36351705,  0.02036598,\n",
      "        -0.33226338, -0.09722907, -0.00817799,  0.22310142, -0.22345006,\n",
      "        -0.02439135,  0.19453065,  0.00433169,  0.47482875,  0.00131025,\n",
      "         0.3148377 , -0.22662118,  0.12927507,  0.04369456, -0.45121887],\n",
      "       [-0.23054187, -0.22334962, -0.18913192,  0.15417175, -0.07368277,\n",
      "        -0.0554374 ,  0.12214173,  0.3880139 , -0.01242276,  0.11768965,\n",
      "         0.26777858, -0.06251994, -0.12100054, -0.12495217, -0.03189994,\n",
      "        -0.50085783, -0.09560107, -0.2402923 ,  0.07087833,  0.03642716,\n",
      "        -0.00494978, -0.36984688,  0.00878784,  0.24595837, -0.1323934 ],\n",
      "       [ 0.318445  ,  0.02266271, -0.06839968, -0.33999097,  0.36428225,\n",
      "        -0.29877323, -0.05122564, -0.37625378,  0.268155  ,  0.19277745,\n",
      "         0.0209468 ,  0.10230298, -0.3974174 ,  0.02363082,  0.12647092,\n",
      "         0.33263046,  0.07712924,  0.19261338, -0.08101249, -0.28784147,\n",
      "         0.17327178, -0.1326688 ,  0.28894275, -0.1987789 , -0.03405774],\n",
      "       [ 0.1867647 , -0.20398362, -0.03936024, -0.3679167 , -0.22960074,\n",
      "         0.23853372, -0.04239364, -0.02102038, -0.06170619,  0.15821125,\n",
      "        -0.31986177,  0.15379827,  0.14520119, -0.24647985, -0.09176766,\n",
      "         0.13322504,  0.40508434,  0.35624555,  0.3348011 ,  0.05405051,\n",
      "         0.21186371,  0.0197499 ,  0.45979315,  0.04328793,  0.36662805]],\n",
      "      dtype=float32)>\n",
      "b2 = <tf.Variable 'Variable:0' shape=(12, 1) dtype=float32, numpy=\n",
      "array([[ 0.0564744 ],\n",
      "       [-0.21984011],\n",
      "       [ 0.2814531 ],\n",
      "       [-0.35175312],\n",
      "       [-0.40571237],\n",
      "       [-0.17799091],\n",
      "       [-0.01699764],\n",
      "       [ 0.20868832],\n",
      "       [-0.00668358],\n",
      "       [-0.6255955 ],\n",
      "       [ 0.7644991 ],\n",
      "       [-0.61448026]], dtype=float32)>\n"
     ]
    }
   ],
   "source": [
    "parameters = initialize_parameters()\n",
    "print(\"W1 = \" + str(parameters[\"W1\"]))\n",
    "print(\"b1 = \" + str(parameters[\"b1\"]))\n",
    "print(\"W2 = \" + str(parameters[\"W2\"]))\n",
    "print(\"b2 = \" + str(parameters[\"b2\"]))\n",
    "\n",
    "tf.keras.backend.clear_session()"
   ]
  },
  {
   "cell_type": "code",
   "execution_count": 27,
   "id": "11916a71",
   "metadata": {},
   "outputs": [],
   "source": [
    "# GRADED FUNCTION: forward_propagation\n",
    "\n",
    "def forward_propagation(X, parameters):\n",
    "    \"\"\"\n",
    "    Implements the forward propagation for the model: LINEAR -> RELU -> LINEAR -> RELU -> LINEAR -> SOFTMAX\n",
    "    \n",
    "    Arguments:\n",
    "    X -- input dataset placeholder, of shape (input size, number of examples)\n",
    "    parameters -- python dictionary containing your parameters \"W1\", \"b1\", \"W2\", \"b2\", \"W3\", \"b3\"\n",
    "                  the shapes are given in initialize_parameters\n",
    "\n",
    "    Returns:\n",
    "    Z3 -- the output of the last LINEAR unit\n",
    "    \"\"\"\n",
    "    \n",
    "    \n",
    "    # Retrieve the parameters from the dictionary \"parameters\" \n",
    "    W1 = parameters['W1']\n",
    "    b1 = parameters['b1']\n",
    "    W2 = parameters['W2']\n",
    "    b2 = parameters['b2']\n",
    "    W3 = parameters['W3']\n",
    "    b3 = parameters['b3']\n",
    "    \n",
    "    ### START CODE HERE ### (approx. 5 lines)              # Numpy Equivalents:\n",
    "    Z1 = tf.add(tf.matmul(W1,X),b1)                        # Z1 = np.dot(W1, X) + b1\n",
    "    A1 = tf.nn.relu(Z1)                                    # A1 = relu(Z1)\n",
    "    Z2 = tf.add(tf.matmul(W2,A1),b2)                       # Z2 = np.dot(W2, a1) + b2\n",
    "    A2 = tf.nn.relu(Z2)                                    # A2 = relu(Z2)\n",
    "    Z3 = tf.add(tf.matmul(W3,Z2),b3)                       # Z3 = np.dot(W3,Z2) + b3\n",
    "    ### END CODE HERE ###\n",
    "    \n",
    "    return Z3"
   ]
  },
  {
   "cell_type": "code",
   "execution_count": 28,
   "id": "05a77125",
   "metadata": {},
   "outputs": [
    {
     "name": "stdout",
     "output_type": "stream",
     "text": [
      "Z3 = tf.Tensor(\n",
      "[[ 0.31374222  0.7606991   0.38721418 ...  0.48126855  0.5716481\n",
      "   0.5039601 ]\n",
      " [ 0.45215803  0.09779096  0.26445144 ...  0.26757234  0.30503505\n",
      "   0.3762372 ]\n",
      " [ 1.6638794   1.3688543   1.4704036  ...  1.4247197   1.3327775\n",
      "   1.7511069 ]\n",
      " [-1.2653809  -0.8749666  -0.94326675 ... -1.0216074  -1.1434367\n",
      "  -0.9625934 ]\n",
      " [ 0.5738419   0.24137753  0.40707517 ...  0.45794368  0.5317998\n",
      "   0.41900015]\n",
      " [ 1.3672092   1.1985708   1.2424432  ...  1.4217482   1.3011042\n",
      "   0.9124247 ]], shape=(6, 1080), dtype=float32)\n"
     ]
    }
   ],
   "source": [
    "parameters = initialize_parameters()\n",
    "Z3 = forward_propagation(X_train, parameters)\n",
    "print(\"Z3 = \" + str(Z3))"
   ]
  },
  {
   "cell_type": "code",
   "execution_count": 29,
   "id": "6021bc29",
   "metadata": {},
   "outputs": [],
   "source": [
    "# GRADED FUNCTION: compute_cost \n",
    "\n",
    "def compute_cost(Z3, Y):\n",
    "    \"\"\"\n",
    "    Computes the cost\n",
    "    \n",
    "    Arguments:\n",
    "    Z3 -- output of forward propagation (output of the last LINEAR unit), of shape (6, number of examples)\n",
    "    Y -- \"true\" labels vector placeholder, same shape as Z3\n",
    "    \n",
    "    Returns:\n",
    "    cost - Tensor of the cost function\n",
    "    \"\"\"\n",
    "    \n",
    "    # to fit the tensorflow requirement for tf.nn.softmax_cross_entropy_with_logits(...,...)\n",
    "    logits = tf.transpose(Z3)\n",
    "    labels = tf.transpose(Y)\n",
    "    \n",
    "    ### START CODE HERE ### (1 line of code)\n",
    "    cost = tf.reduce_mean(tf.nn.softmax_cross_entropy_with_logits(logits = logits, labels = labels))\n",
    "    ### END CODE HERE ###\n",
    "    \n",
    "    return cost"
   ]
  },
  {
   "cell_type": "code",
   "execution_count": 30,
   "id": "acbb9c8b",
   "metadata": {},
   "outputs": [
    {
     "name": "stdout",
     "output_type": "stream",
     "text": [
      "cost = tf.Tensor(2.0450943, shape=(), dtype=float32)\n"
     ]
    }
   ],
   "source": [
    "parameters = initialize_parameters()\n",
    "Z3 = forward_propagation(X_train, parameters)\n",
    "cost = compute_cost(Z3, Y_train)\n",
    "print(\"cost = \" + str(cost))"
   ]
  },
  {
   "cell_type": "code",
   "execution_count": 37,
   "id": "e4352411",
   "metadata": {},
   "outputs": [
    {
     "name": "stdout",
     "output_type": "stream",
     "text": [
      "tf.Tensor(6.0, shape=(), dtype=float32)\n"
     ]
    }
   ],
   "source": [
    "with tf.GradientTape() as tape:\n",
    "    x = tf.constant(3.0)\n",
    "    tape.watch(x)\n",
    "    y = x * x\n",
    "\n",
    "dy_dx = tape.gradient(y, x)\n",
    "print(dy_dx)"
   ]
  },
  {
   "cell_type": "markdown",
   "id": "2cb4e162",
   "metadata": {},
   "source": [
    "## Understanding `tf.GradientTape()` and its Use in Training Loops:\n",
    "\n",
    "**1. Automatic Differentiation with `tf.GradientTape()`:**\n",
    "\n",
    "- `tf.GradientTape()` is a powerful tool in TensorFlow for **automatic differentiation**. This involves efficiently computing the gradients of a computation with respect to its inputs.\n",
    "\n",
    "**2. Working with `tf.GradientTape()**:\n",
    "\n",
    "- **Context Manager:** It acts as a context manager, meaning you use it within a `with` block. Any operations performed inside the `with` block are recorded by the tape.\n",
    "- **Recording Operations:** The tape tracks all mathematical operations performed on tensors within the `with` block. This includes functions like addition, multiplication, and activation functions.\n",
    "\n",
    "**Example:**\n",
    "\n",
    "```python\n",
    "import tensorflow as tf\n",
    "\n",
    "with tf.GradientTape() as tape:\n",
    "  x = tf.constant([1.0, 2.0])\n",
    "  y = x * x  # Operation recorded by the tape\n",
    "\n",
    "# After the 'with' block, the tape contains the computation history\n",
    "```\n",
    "\n",
    "**3. Retrieving Gradients:**\n",
    "\n",
    "- Once you've built the computational graph within the `with` block, you can use the `tape.gradient` method to calculate the gradients of any recorded output with respect to any input variable.\n",
    "\n",
    "```python\n",
    "# Calculate the gradient of y with respect to x\n",
    "gradients = tape.gradient(y, x)\n",
    "print(gradients)  # Output: [2. 4.]\n",
    "```\n",
    "\n",
    "**4. Application in Training Loops:**\n",
    "\n",
    "**a. Forward Pass:**\n",
    "\n",
    "- During training, the forward pass involves calculating the model's output (predictions) for a given input (features). You can use `tf.GradientTape()` to record the operations performed in the forward pass.\n",
    "\n",
    "```python\n",
    "with tf.GradientTape() as tape:\n",
    "  # Forward pass operations using your model and input data\n",
    "  predictions = model(data)\n",
    "  loss = loss_function(predictions, labels)\n",
    "```\n",
    "\n",
    "**b. Backward Pass (Gradient Calculation):**\n",
    "\n",
    "- After the forward pass, use the tape's `gradient` method to calculate the gradients of the loss function with respect to the trainable variables of the model (weights and biases). These gradients are crucial for updating the model's parameters in the direction that minimizes the loss.\n",
    "\n",
    "```python\n",
    "# Calculate gradients of loss w.r.t. trainable variables\n",
    "gradients = tape.gradient(loss, model.trainable_variables)\n",
    "```\n",
    "\n",
    "**c. Optimizer Update:**\n",
    "\n",
    "- You can use an optimizer (e.g., `tf.keras.optimizers.Adam`) to update the model's trainable variables based on the calculated gradients. This update aims to improve the model's performance by reducing the loss over multiple training iterations.\n",
    "\n",
    "```python\n",
    "optimizer.apply_gradients(zip(gradients, model.trainable_variables))\n",
    "```\n",
    "\n",
    "This process of forward pass, gradient calculation, and parameter update forms the core of backpropagation, which is the foundation of training deep neural networks.\n",
    "\n",
    "**Overall, `tf.GradientTape()` simplifies automatic differentiation within TensorFlow, making it easier to build and train models by automatically tracking operations and calculating gradients.**"
   ]
  },
  {
   "cell_type": "code",
   "execution_count": 50,
   "id": "ffbb6f92",
   "metadata": {},
   "outputs": [],
   "source": [
    "def model(X_train, Y_train, X_test, Y_test, learning_rate = 0.0001,\n",
    "          num_epochs = 2500, minibatch_size = 32, print_cost = True):\n",
    "    \"\"\"\n",
    "    Implements a three-layer tensorflow neural network: LINEAR->RELU->LINEAR->RELU->LINEAR->SOFTMAX.\n",
    "    \n",
    "    Arguments:\n",
    "    X_train -- training set, of shape (input size = 12288, number of training examples = 1080)\n",
    "    Y_train -- test set, of shape (output size = 6, number of training examples = 1080)\n",
    "    X_test -- training set, of shape (input size = 12288, number of training examples = 120)\n",
    "    Y_test -- test set, of shape (output size = 6, number of test examples = 120)\n",
    "    learning_rate -- learning rate of the optimization\n",
    "    num_epochs -- number of epochs of the optimization loop\n",
    "    minibatch_size -- size of a minibatch\n",
    "    print_cost -- True to print the cost every 100 epochs\n",
    "    \n",
    "    Returns:\n",
    "    parameters -- parameters learnt by the model. They can then be used to predict.\n",
    "    \"\"\"\n",
    "    \n",
    "    ops.reset_default_graph()                         # to be able to rerun the model without overwriting tf variables\n",
    "    tf.random.set_seed(1)                            # to keep consistent results\n",
    "    seed = 3                                          # to keep consistent results\n",
    "    (n_x, m) = X_train.shape                          # (n_x: input size, m : number of examples in the train set)\n",
    "    n_y = Y_train.shape[0]                            # n_y : output size\n",
    "    costs = []                                        # To keep track of the cost\n",
    "    \n",
    "    parameters = initialize_parameters()\n",
    "    #print(parameters)\n",
    "    \n",
    "    optimizer = tf.optimizers.SGD(learning_rate=learning_rate, name='SGD')\n",
    "    \n",
    "    for epoch in range(num_epochs):\n",
    "\n",
    "        epoch_cost = 0.                       # Defines a cost related to an epoch\n",
    "        num_minibatches = int(m / minibatch_size) # number of minibatches of size minibatch_size in the train set\n",
    "        seed = seed + 1\n",
    "        minibatches = random_mini_batches(X_train, Y_train, minibatch_size, seed)\n",
    "\n",
    "        for minibatch in minibatches:\n",
    "            (minibatch_X, minibatch_Y) = minibatch\n",
    "            \n",
    "            with tf.GradientTape() as tape:\n",
    "                ### In GradientTape we have to pass all the Operations and tape will records all those things\n",
    "                Z3 = forward_propagation(minibatch_X, parameters)\n",
    "                loss_value = compute_cost(Z3, minibatch_Y)\n",
    "              \n",
    "            # contains values of gradients of models weights like\n",
    "            # {W1 : [W1 gradients values]}\n",
    "            grads = tape.gradient(loss_value, [parameters])\n",
    "            processed_grads = [value for key, value in grads[0].items()]\n",
    "            processed_parameters = [value for key, value in parameters.items()]\n",
    "            \n",
    "            # We have to pass list of grads values along with parameters both are in list format\n",
    "            optimizer.apply_gradients(zip(processed_grads, processed_parameters))\n",
    "            epoch_cost += loss_value\n",
    "        \n",
    "        # Print the cost every epoch\n",
    "        if print_cost == True and epoch % 100 == 0:\n",
    "            print (\"Cost after epoch %i: %f\" % (epoch, epoch_cost))\n",
    "        if print_cost == True and epoch % 5 == 0:\n",
    "            costs.append(epoch_cost)\n",
    "\n",
    "    # plot the cost\n",
    "    plt.plot(np.squeeze(costs))\n",
    "    plt.ylabel('cost')\n",
    "    plt.xlabel('iterations (per tens)')\n",
    "    plt.title(\"Learning rate =\" + str(learning_rate))\n",
    "    plt.show()\n",
    "\n",
    "    #lets save the parameters in a variable\n",
    "#     parameters = sess.run(parameters)\n",
    "#     print (\"Parameters have been trained!\")\n",
    "\n",
    "    #Calculate the correct predictions\n",
    "    #correct_prediction = tf.equal(tf.argmax(Z3), tf.argmax(Y))\n",
    "\n",
    "    # Calculate accuracy on the test set\n",
    "    accuracy = tf.reduce_mean(tf.cast(correct_prediction, \"float\"))\n",
    "\n",
    "    print (\"Train Accuracy:\", accuracy.eval({X: X_train, Y: Y_train}))\n",
    "    print (\"Test Accuracy:\", accuracy.eval({X: X_test, Y: Y_test}))\n",
    "        \n",
    "    return parameters"
   ]
  },
  {
   "cell_type": "code",
   "execution_count": 51,
   "id": "598824db",
   "metadata": {
    "collapsed": true
   },
   "outputs": [
    {
     "name": "stdout",
     "output_type": "stream",
     "text": [
      "Cost after epoch 0: 65.573296\n",
      "Cost after epoch 100: 50.508659\n",
      "Cost after epoch 200: 43.745728\n",
      "Cost after epoch 300: 38.652092\n",
      "Cost after epoch 400: 34.612400\n",
      "Cost after epoch 500: 31.407511\n"
     ]
    },
    {
     "ename": "KeyboardInterrupt",
     "evalue": "",
     "output_type": "error",
     "traceback": [
      "\u001b[1;31m---------------------------------------------------------------------------\u001b[0m",
      "\u001b[1;31mKeyboardInterrupt\u001b[0m                         Traceback (most recent call last)",
      "Input \u001b[1;32mIn [51]\u001b[0m, in \u001b[0;36m<cell line: 1>\u001b[1;34m()\u001b[0m\n\u001b[1;32m----> 1\u001b[0m parameters \u001b[38;5;241m=\u001b[39m \u001b[43mmodel\u001b[49m\u001b[43m(\u001b[49m\u001b[43mX_train\u001b[49m\u001b[43m,\u001b[49m\u001b[43m \u001b[49m\u001b[43mY_train\u001b[49m\u001b[43m,\u001b[49m\u001b[43m \u001b[49m\u001b[43mX_test\u001b[49m\u001b[43m,\u001b[49m\u001b[43m \u001b[49m\u001b[43mY_test\u001b[49m\u001b[43m)\u001b[49m\n",
      "Input \u001b[1;32mIn [50]\u001b[0m, in \u001b[0;36mmodel\u001b[1;34m(X_train, Y_train, X_test, Y_test, learning_rate, num_epochs, minibatch_size, print_cost)\u001b[0m\n\u001b[0;32m     45\u001b[0m     loss_value \u001b[38;5;241m=\u001b[39m compute_cost(Z3, minibatch_Y)\n\u001b[0;32m     47\u001b[0m \u001b[38;5;66;03m# contains values of gradients of models weights like\u001b[39;00m\n\u001b[0;32m     48\u001b[0m \u001b[38;5;66;03m# {W1 : [W1 gradients values]}\u001b[39;00m\n\u001b[1;32m---> 49\u001b[0m grads \u001b[38;5;241m=\u001b[39m \u001b[43mtape\u001b[49m\u001b[38;5;241;43m.\u001b[39;49m\u001b[43mgradient\u001b[49m\u001b[43m(\u001b[49m\u001b[43mloss_value\u001b[49m\u001b[43m,\u001b[49m\u001b[43m \u001b[49m\u001b[43m[\u001b[49m\u001b[43mparameters\u001b[49m\u001b[43m]\u001b[49m\u001b[43m)\u001b[49m\n\u001b[0;32m     50\u001b[0m processed_grads \u001b[38;5;241m=\u001b[39m [value \u001b[38;5;28;01mfor\u001b[39;00m key, value \u001b[38;5;129;01min\u001b[39;00m grads[\u001b[38;5;241m0\u001b[39m]\u001b[38;5;241m.\u001b[39mitems()]\n\u001b[0;32m     51\u001b[0m processed_parameters \u001b[38;5;241m=\u001b[39m [value \u001b[38;5;28;01mfor\u001b[39;00m key, value \u001b[38;5;129;01min\u001b[39;00m parameters\u001b[38;5;241m.\u001b[39mitems()]\n",
      "File \u001b[1;32m~\\AppData\\Local\\Programs\\Python\\Python310\\lib\\site-packages\\tensorflow\\python\\eager\\backprop.py:1063\u001b[0m, in \u001b[0;36mGradientTape.gradient\u001b[1;34m(self, target, sources, output_gradients, unconnected_gradients)\u001b[0m\n\u001b[0;32m   1057\u001b[0m   output_gradients \u001b[38;5;241m=\u001b[39m (\n\u001b[0;32m   1058\u001b[0m       composite_tensor_gradient\u001b[38;5;241m.\u001b[39mget_flat_tensors_for_gradients(\n\u001b[0;32m   1059\u001b[0m           output_gradients))\n\u001b[0;32m   1060\u001b[0m   output_gradients \u001b[38;5;241m=\u001b[39m [\u001b[38;5;28;01mNone\u001b[39;00m \u001b[38;5;28;01mif\u001b[39;00m x \u001b[38;5;129;01mis\u001b[39;00m \u001b[38;5;28;01mNone\u001b[39;00m \u001b[38;5;28;01melse\u001b[39;00m ops\u001b[38;5;241m.\u001b[39mconvert_to_tensor(x)\n\u001b[0;32m   1061\u001b[0m                       \u001b[38;5;28;01mfor\u001b[39;00m x \u001b[38;5;129;01min\u001b[39;00m output_gradients]\n\u001b[1;32m-> 1063\u001b[0m flat_grad \u001b[38;5;241m=\u001b[39m \u001b[43mimperative_grad\u001b[49m\u001b[38;5;241;43m.\u001b[39;49m\u001b[43mimperative_grad\u001b[49m\u001b[43m(\u001b[49m\n\u001b[0;32m   1064\u001b[0m \u001b[43m    \u001b[49m\u001b[38;5;28;43mself\u001b[39;49m\u001b[38;5;241;43m.\u001b[39;49m\u001b[43m_tape\u001b[49m\u001b[43m,\u001b[49m\n\u001b[0;32m   1065\u001b[0m \u001b[43m    \u001b[49m\u001b[43mflat_targets\u001b[49m\u001b[43m,\u001b[49m\n\u001b[0;32m   1066\u001b[0m \u001b[43m    \u001b[49m\u001b[43mflat_sources\u001b[49m\u001b[43m,\u001b[49m\n\u001b[0;32m   1067\u001b[0m \u001b[43m    \u001b[49m\u001b[43moutput_gradients\u001b[49m\u001b[38;5;241;43m=\u001b[39;49m\u001b[43moutput_gradients\u001b[49m\u001b[43m,\u001b[49m\n\u001b[0;32m   1068\u001b[0m \u001b[43m    \u001b[49m\u001b[43msources_raw\u001b[49m\u001b[38;5;241;43m=\u001b[39;49m\u001b[43mflat_sources_raw\u001b[49m\u001b[43m,\u001b[49m\n\u001b[0;32m   1069\u001b[0m \u001b[43m    \u001b[49m\u001b[43munconnected_gradients\u001b[49m\u001b[38;5;241;43m=\u001b[39;49m\u001b[43munconnected_gradients\u001b[49m\u001b[43m)\u001b[49m\n\u001b[0;32m   1071\u001b[0m \u001b[38;5;28;01mif\u001b[39;00m \u001b[38;5;129;01mnot\u001b[39;00m \u001b[38;5;28mself\u001b[39m\u001b[38;5;241m.\u001b[39m_persistent:\n\u001b[0;32m   1072\u001b[0m   \u001b[38;5;66;03m# Keep track of watched variables before setting tape to None\u001b[39;00m\n\u001b[0;32m   1073\u001b[0m   \u001b[38;5;28mself\u001b[39m\u001b[38;5;241m.\u001b[39m_watched_variables \u001b[38;5;241m=\u001b[39m \u001b[38;5;28mself\u001b[39m\u001b[38;5;241m.\u001b[39m_tape\u001b[38;5;241m.\u001b[39mwatched_variables()\n",
      "File \u001b[1;32m~\\AppData\\Local\\Programs\\Python\\Python310\\lib\\site-packages\\tensorflow\\python\\eager\\imperative_grad.py:67\u001b[0m, in \u001b[0;36mimperative_grad\u001b[1;34m(tape, target, sources, output_gradients, sources_raw, unconnected_gradients)\u001b[0m\n\u001b[0;32m     63\u001b[0m \u001b[38;5;28;01mexcept\u001b[39;00m \u001b[38;5;167;01mValueError\u001b[39;00m:\n\u001b[0;32m     64\u001b[0m   \u001b[38;5;28;01mraise\u001b[39;00m \u001b[38;5;167;01mValueError\u001b[39;00m(\n\u001b[0;32m     65\u001b[0m       \u001b[38;5;124m\"\u001b[39m\u001b[38;5;124mUnknown value for unconnected_gradients: \u001b[39m\u001b[38;5;132;01m%r\u001b[39;00m\u001b[38;5;124m\"\u001b[39m \u001b[38;5;241m%\u001b[39m unconnected_gradients)\n\u001b[1;32m---> 67\u001b[0m \u001b[38;5;28;01mreturn\u001b[39;00m \u001b[43mpywrap_tfe\u001b[49m\u001b[38;5;241;43m.\u001b[39;49m\u001b[43mTFE_Py_TapeGradient\u001b[49m\u001b[43m(\u001b[49m\n\u001b[0;32m     68\u001b[0m \u001b[43m    \u001b[49m\u001b[43mtape\u001b[49m\u001b[38;5;241;43m.\u001b[39;49m\u001b[43m_tape\u001b[49m\u001b[43m,\u001b[49m\u001b[43m  \u001b[49m\u001b[38;5;66;43;03m# pylint: disable=protected-access\u001b[39;49;00m\n\u001b[0;32m     69\u001b[0m \u001b[43m    \u001b[49m\u001b[43mtarget\u001b[49m\u001b[43m,\u001b[49m\n\u001b[0;32m     70\u001b[0m \u001b[43m    \u001b[49m\u001b[43msources\u001b[49m\u001b[43m,\u001b[49m\n\u001b[0;32m     71\u001b[0m \u001b[43m    \u001b[49m\u001b[43moutput_gradients\u001b[49m\u001b[43m,\u001b[49m\n\u001b[0;32m     72\u001b[0m \u001b[43m    \u001b[49m\u001b[43msources_raw\u001b[49m\u001b[43m,\u001b[49m\n\u001b[0;32m     73\u001b[0m \u001b[43m    \u001b[49m\u001b[43mcompat\u001b[49m\u001b[38;5;241;43m.\u001b[39;49m\u001b[43mas_str\u001b[49m\u001b[43m(\u001b[49m\u001b[43munconnected_gradients\u001b[49m\u001b[38;5;241;43m.\u001b[39;49m\u001b[43mvalue\u001b[49m\u001b[43m)\u001b[49m\u001b[43m)\u001b[49m\n",
      "File \u001b[1;32m~\\AppData\\Local\\Programs\\Python\\Python310\\lib\\site-packages\\tensorflow\\python\\eager\\backprop.py:146\u001b[0m, in \u001b[0;36m_gradient_function\u001b[1;34m(op_name, attr_tuple, num_inputs, inputs, outputs, out_grads, skip_input_indices, forward_pass_name_scope)\u001b[0m\n\u001b[0;32m    144\u001b[0m     gradient_name_scope \u001b[38;5;241m+\u001b[39m\u001b[38;5;241m=\u001b[39m forward_pass_name_scope \u001b[38;5;241m+\u001b[39m \u001b[38;5;124m\"\u001b[39m\u001b[38;5;124m/\u001b[39m\u001b[38;5;124m\"\u001b[39m\n\u001b[0;32m    145\u001b[0m   \u001b[38;5;28;01mwith\u001b[39;00m ops\u001b[38;5;241m.\u001b[39mname_scope(gradient_name_scope):\n\u001b[1;32m--> 146\u001b[0m     \u001b[38;5;28;01mreturn\u001b[39;00m \u001b[43mgrad_fn\u001b[49m\u001b[43m(\u001b[49m\u001b[43mmock_op\u001b[49m\u001b[43m,\u001b[49m\u001b[43m \u001b[49m\u001b[38;5;241;43m*\u001b[39;49m\u001b[43mout_grads\u001b[49m\u001b[43m)\u001b[49m\n\u001b[0;32m    147\u001b[0m \u001b[38;5;28;01melse\u001b[39;00m:\n\u001b[0;32m    148\u001b[0m   \u001b[38;5;28;01mreturn\u001b[39;00m grad_fn(mock_op, \u001b[38;5;241m*\u001b[39mout_grads)\n",
      "File \u001b[1;32m~\\AppData\\Local\\Programs\\Python\\Python310\\lib\\site-packages\\tensorflow\\python\\ops\\nn_grad.py:535\u001b[0m, in \u001b[0;36m_SoftmaxCrossEntropyWithLogitsGrad\u001b[1;34m(op, grad_loss, grad_grad)\u001b[0m\n\u001b[0;32m    527\u001b[0m   softmax \u001b[38;5;241m=\u001b[39m nn_ops\u001b[38;5;241m.\u001b[39msoftmax(logits)\n\u001b[0;32m    529\u001b[0m   grad \u001b[38;5;241m+\u001b[39m\u001b[38;5;241m=\u001b[39m ((grad_grad \u001b[38;5;241m-\u001b[39m array_ops\u001b[38;5;241m.\u001b[39msqueeze(\n\u001b[0;32m    530\u001b[0m       math_ops\u001b[38;5;241m.\u001b[39mmatmul(\n\u001b[0;32m    531\u001b[0m           array_ops\u001b[38;5;241m.\u001b[39mexpand_dims(grad_grad, \u001b[38;5;241m1\u001b[39m),\n\u001b[0;32m    532\u001b[0m           array_ops\u001b[38;5;241m.\u001b[39mexpand_dims(softmax, \u001b[38;5;241m2\u001b[39m)),\n\u001b[0;32m    533\u001b[0m       axis\u001b[38;5;241m=\u001b[39m\u001b[38;5;241m1\u001b[39m)) \u001b[38;5;241m*\u001b[39m softmax)\n\u001b[1;32m--> 535\u001b[0m \u001b[38;5;28;01mreturn\u001b[39;00m grad, _BroadcastMul(grad_loss, \u001b[38;5;241;43m-\u001b[39;49m\u001b[43mnn_ops\u001b[49m\u001b[38;5;241;43m.\u001b[39;49m\u001b[43mlog_softmax\u001b[49m\u001b[43m(\u001b[49m\u001b[43mlogits\u001b[49m\u001b[43m)\u001b[49m)\n",
      "File \u001b[1;32m~\\AppData\\Local\\Programs\\Python\\Python310\\lib\\site-packages\\tensorflow\\python\\ops\\gen_math_ops.py:7498\u001b[0m, in \u001b[0;36mneg\u001b[1;34m(x, name)\u001b[0m\n\u001b[0;32m   7496\u001b[0m \u001b[38;5;28;01mif\u001b[39;00m tld\u001b[38;5;241m.\u001b[39mis_eager:\n\u001b[0;32m   7497\u001b[0m   \u001b[38;5;28;01mtry\u001b[39;00m:\n\u001b[1;32m-> 7498\u001b[0m     _result \u001b[38;5;241m=\u001b[39m \u001b[43mpywrap_tfe\u001b[49m\u001b[38;5;241;43m.\u001b[39;49m\u001b[43mTFE_Py_FastPathExecute\u001b[49m\u001b[43m(\u001b[49m\n\u001b[0;32m   7499\u001b[0m \u001b[43m      \u001b[49m\u001b[43m_ctx\u001b[49m\u001b[43m,\u001b[49m\u001b[43m \u001b[49m\u001b[38;5;124;43m\"\u001b[39;49m\u001b[38;5;124;43mNeg\u001b[39;49m\u001b[38;5;124;43m\"\u001b[39;49m\u001b[43m,\u001b[49m\u001b[43m \u001b[49m\u001b[43mname\u001b[49m\u001b[43m,\u001b[49m\u001b[43m \u001b[49m\u001b[43mx\u001b[49m\u001b[43m)\u001b[49m\n\u001b[0;32m   7500\u001b[0m     \u001b[38;5;28;01mreturn\u001b[39;00m _result\n\u001b[0;32m   7501\u001b[0m   \u001b[38;5;28;01mexcept\u001b[39;00m _core\u001b[38;5;241m.\u001b[39m_NotOkStatusException \u001b[38;5;28;01mas\u001b[39;00m e:\n",
      "\u001b[1;31mKeyboardInterrupt\u001b[0m: "
     ]
    }
   ],
   "source": [
    "parameters = model(X_train, Y_train, X_test, Y_test)"
   ]
  },
  {
   "cell_type": "code",
   "execution_count": null,
   "id": "9685607b",
   "metadata": {},
   "outputs": [],
   "source": [
    "    W1 = tf.Variable(initializer(shape = (25,12288)), trainable = True, dtype=tf.float32)\n",
    "    b1 = tf.Variable(initializer(shape = (25,1)), trainable = True, dtype=tf.float32)\n",
    "    W2 = tf.Variable(initializer(shape = (12,25)), trainable = True, dtype=tf.float32)\n",
    "    b2 = tf.Variable(initializer(shape = (12,1)), trainable = True, dtype=tf.float32)\n",
    "    W3 = tf.Variable(initializer(shape = (6,12)), trainable = True, dtype=tf.float32)\n",
    "    b3 = tf.Variable(initializer(shape = (6,1)), trainable = True, dtype=tf.float32)"
   ]
  },
  {
   "cell_type": "code",
   "execution_count": null,
   "id": "494818ce",
   "metadata": {},
   "outputs": [],
   "source": [
    "inputs = keras.Input(shape=(12288,), name=\"digits\")\n",
    "x1 = layers.Dense(25, activation=\"relu\")(inputs)\n",
    "x2 = layers.Dense(12, activation=\"relu\")(x1)\n",
    "x3 = layers.Dense(6, activation=\"relu\")(x2)\n",
    "outputs = layers.Dense(10, name=\"predictions\")(x3)\n",
    "model = keras.Model(inputs=inputs, outputs=outputs)"
   ]
  },
  {
   "cell_type": "code",
   "execution_count": null,
   "id": "753192bb",
   "metadata": {},
   "outputs": [],
   "source": [
    "# Instantiate an optimizer.\n",
    "optimizer = keras.optimizers.SGD(learning_rate=1e-3)\n",
    "# Instantiate a loss function.\n",
    "loss_fn = keras.losses.SparseCategoricalCrossentropy(from_logits=True)"
   ]
  },
  {
   "cell_type": "code",
   "execution_count": null,
   "id": "09c1a082",
   "metadata": {},
   "outputs": [],
   "source": [
    "epochs = 2\n",
    "for epoch in range(epochs):\n",
    "    print(\"\\nStart of epoch %d\" % (epoch,))\n",
    "\n",
    "    # Iterate over the batches of the dataset.\n",
    "    for step, (x_batch_train, y_batch_train) in enumerate(train_dataset):\n",
    "        # Open a GradientTape to record the operations run\n",
    "        # during the forward pass, which enables auto-differentiation.\n",
    "        with tf.GradientTape() as tape:\n",
    "            # Run the forward pass of the layer.\n",
    "            # The operations that the layer applies\n",
    "            # to its inputs are going to be recorded\n",
    "            # on the GradientTape.\n",
    "            logits = model(x_batch_train, training=True)  # Logits for this minibatch\n",
    "\n",
    "            # Compute the loss value for this minibatch.\n",
    "            loss_value = loss_fn(y_batch_train, logits)\n",
    "\n",
    "        # Use the gradient tape to automatically retrieve\n",
    "        # the gradients of the trainable variables with respect to the loss.\n",
    "        grads = tape.gradient(loss_value, model.trainable_weights)\n",
    "\n",
    "        # Run one step of gradient descent by updating\n",
    "        # the value of the variables to minimize the loss.\n",
    "        optimizer.apply_gradients(zip(grads, model.trainable_weights))\n",
    "\n",
    "        # Log every 200 batches.\n",
    "        if step % 200 == 0:\n",
    "            print(\n",
    "                \"Training loss (for one batch) at step %d: %.4f\"\n",
    "                % (step, float(loss_value))\n",
    "            )\n",
    "            print(\"Seen so far: %s samples\" % ((step + 1) * batch_size))"
   ]
  },
  {
   "cell_type": "markdown",
   "id": "a422825c",
   "metadata": {},
   "source": [
    "####\n",
    "https://www.tensorflow.org/guide/keras/writing_a_training_loop_from_scratch"
   ]
  },
  {
   "cell_type": "code",
   "execution_count": null,
   "id": "fdc58f44",
   "metadata": {},
   "outputs": [],
   "source": []
  }
 ],
 "metadata": {
  "kernelspec": {
   "display_name": "Python 3 (ipykernel)",
   "language": "python",
   "name": "python3"
  },
  "language_info": {
   "codemirror_mode": {
    "name": "ipython",
    "version": 3
   },
   "file_extension": ".py",
   "mimetype": "text/x-python",
   "name": "python",
   "nbconvert_exporter": "python",
   "pygments_lexer": "ipython3",
   "version": "3.10.6"
  }
 },
 "nbformat": 4,
 "nbformat_minor": 5
}
